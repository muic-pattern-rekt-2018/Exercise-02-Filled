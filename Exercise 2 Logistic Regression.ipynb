{
 "cells": [
  {
   "cell_type": "markdown",
   "metadata": {},
   "source": [
    "# Likelihood\n",
    "\n",
    "Let's make sure we understand a fundamental statistics concept which makes the logistic regression works before we even discuss the logistic regression."
   ]
  },
  {
   "cell_type": "markdown",
   "metadata": {},
   "source": [
    "Consider 2 Mangoes Farm. Here are some information about both of them."
   ]
  },
  {
   "cell_type": "markdown",
   "metadata": {},
   "source": [
    "- **Poon's Farm**\n",
    "    - 70% of mango is sour. 30% is sweet\n",
    "    \n",
    "- **Ply's Farm**\n",
    "    - 20% of mango is sour and 80% is sweet."
   ]
  },
  {
   "cell_type": "markdown",
   "metadata": {},
   "source": [
    "Now you found an unlabeled basket. With 6 Sour Mangoes and 4 Sweet Mangoes."
   ]
  },
  {
   "cell_type": "markdown",
   "metadata": {},
   "source": [
    "1) If this basket is from Poon's farm what is the probability that Poon's Farm would produce such basket?"
   ]
  },
  {
   "cell_type": "code",
   "execution_count": 3,
   "metadata": {},
   "outputs": [],
   "source": [
    "import math\n",
    "def choose(n, k):\n",
    "    return math.factorial(n)/math.factorial(k)/math.factorial(n-k)\n",
    "    "
   ]
  },
  {
   "cell_type": "markdown",
   "metadata": {},
   "source": [
    "${10 \\choose 4} 0.7^6 0.3^4$"
   ]
  },
  {
   "cell_type": "code",
   "execution_count": 8,
   "metadata": {},
   "outputs": [
    {
     "data": {
      "text/plain": [
       "0.20012094899999994"
      ]
     },
     "execution_count": 8,
     "metadata": {},
     "output_type": "execute_result"
    }
   ],
   "source": [
    "0.7**6 * 0.3**4 * choose(10,4)"
   ]
  },
  {
   "cell_type": "markdown",
   "metadata": {},
   "source": [
    "2) If this basket is from Ply's farm what is the probability that Ply's Farm would produce such basket?"
   ]
  },
  {
   "cell_type": "markdown",
   "metadata": {},
   "source": [
    "${10 \\choose 4} 0.8^4 0.2^6$"
   ]
  },
  {
   "cell_type": "code",
   "execution_count": 9,
   "metadata": {
    "scrolled": true
   },
   "outputs": [
    {
     "data": {
      "text/plain": [
       "0.005505024000000003"
      ]
     },
     "execution_count": 9,
     "metadata": {},
     "output_type": "execute_result"
    }
   ],
   "source": [
    "0.2**6 * 0.8**4 * choose(10,4)"
   ]
  },
  {
   "cell_type": "markdown",
   "metadata": {},
   "source": [
    "3) Where do you think the basket is from?"
   ]
  },
  {
   "cell_type": "markdown",
   "metadata": {},
   "source": [
    "<span style=\"color:red;\">I'd say Poon's</span>"
   ]
  },
  {
   "cell_type": "markdown",
   "metadata": {},
   "source": [
    "4) Is your logic correct? What you just calculated is called likelihood. Is it\n",
    "\n",
    "$$\n",
    "    P(Basket|Farm) \\; \\text{ or } \\; P(Farm|Basket)\n",
    "$$"
   ]
  },
  {
   "cell_type": "markdown",
   "metadata": {},
   "source": [
    "What we just calculated is $P(Basket|Farm)$."
   ]
  },
  {
   "cell_type": "markdown",
   "metadata": {},
   "source": [
    "5) If we want to label the basket, which one do we want to calculate?\n",
    "\n",
    "$$\n",
    "    P(Basket|Farm) \\; \\text{ or } \\; P(Farm|Basket)\n",
    "$$"
   ]
  },
  {
   "cell_type": "markdown",
   "metadata": {},
   "source": [
    "<span style=\"color:red;\">Ideally, we would love to calculate $P(Farm|Basket)$</span>"
   ]
  },
  {
   "cell_type": "markdown",
   "metadata": {},
   "source": [
    "6) But... what we did seems very reasonable. So, Let's try to understand it a bit more. We learned from last class that\n",
    "\n",
    "$$\n",
    "P(Ply | Basket) \\times P(Basket) = P(Basket|Ply) \\times P(Ply)\n",
    "$$\n",
    "and similarily\n",
    "$$\n",
    "P(Poon | Basket) \\times P(Basket) = P(Basket|Poon) \\times P(Poon)\n",
    "$$\n",
    "\n",
    "which means if we were to choose whether the Basket comes from Ply's farm of Poon's farm we can just compare the ratio\n",
    "\n",
    "$$\n",
    "    \\frac{P(Ply | Basket)}{ P(Poon | Basket)} = \\frac{P(Basket|Ply)}{ P(Basket|Poon) } \\times \\frac{P(Ply)}{P(Poon)}\n",
    "$$\n",
    "\n",
    "So when we pick one farm over the other based on the the comparison of $P(Basket|Ply)$ and  $P(Basket|Poon)$, what did we assume on the prior terms?"
   ]
  },
  {
   "cell_type": "markdown",
   "metadata": {},
   "source": [
    "<span style=\"color:red;\">We were assuming they were equal. \"Natural\" assumption but not necessarily correct though.</span>"
   ]
  },
  {
   "cell_type": "markdown",
   "metadata": {},
   "source": [
    "# Logistic Regression"
   ]
  },
  {
   "cell_type": "code",
   "execution_count": 14,
   "metadata": {},
   "outputs": [],
   "source": [
    "%matplotlib inline\n",
    "import numpy as np\n",
    "from matplotlib import pyplot as plt\n",
    "import math\n",
    "import pandas as pd"
   ]
  },
  {
   "cell_type": "markdown",
   "metadata": {},
   "source": [
    "Let us consider the following data in `xps` and `xms`. These are features of two classes +1 and -1.\n",
    "\n",
    "When we have two classes we usually call them +1 and -1 since it simplify a lot of formula greatly."
   ]
  },
  {
   "cell_type": "markdown",
   "metadata": {},
   "source": [
    "### Main Idea\n",
    "\n",
    "The main idea here is that we are given data of two classes and we want to build a **system** which can classify the data into the two classes based on the given feature.\n",
    "\n",
    "To do that, we will search for the best the **data generator**. Then we will use that **data generator** to find the class.\n",
    "\n",
    "A better concrete analogy would be that \n",
    "\n",
    "    1. you went into a warehouse full of fruit baskets which comes from the same farm. You are allowed to taste exactly one basket. \n",
    "    2. After tasting a basket and comparing likelihood, you conclude that the whole warehouse belongs to Plys' Farm. \n",
    "    3. Now given a random mango from the warehouse you can tell that there is an 80% chance that it will be a sweet mango\n",
    "    \n",
    "The technical details can be abit intimidating. But just keep this main idea in mind things will become a bit easier to understand."
   ]
  },
  {
   "cell_type": "code",
   "execution_count": 15,
   "metadata": {},
   "outputs": [
    {
     "name": "stdout",
     "output_type": "stream",
     "text": [
      "/c/Users/jellydonuts/playground/tmp/Exercise02-Logistic-Regression\n"
     ]
    }
   ],
   "source": [
    "!pwd"
   ]
  },
  {
   "cell_type": "code",
   "execution_count": 16,
   "metadata": {},
   "outputs": [],
   "source": [
    "np.random.seed(12345)\n",
    "nplus = 1000\n",
    "nminus = 500\n",
    "\n",
    "xps = np.random.randn(nplus) + 2.\n",
    "xms = np.random.randn(nminus)\n",
    "\n",
    "alln = nplus + nminus"
   ]
  },
  {
   "cell_type": "code",
   "execution_count": 17,
   "metadata": {},
   "outputs": [
    {
     "data": {
      "text/plain": [
       "<matplotlib.legend.Legend at 0x21a8d5c13c8>"
      ]
     },
     "execution_count": 17,
     "metadata": {},
     "output_type": "execute_result"
    },
    {
     "data": {
      "image/png": "[encoded data removed]",
      "text/plain": [
       "<Figure size 864x576 with 1 Axes>"
      ]
     },
     "metadata": {
      "needs_background": "light"
     },
     "output_type": "display_data"
    }
   ],
   "source": [
    "plt.figure(figsize=(12,8))\n",
    "bins = np.linspace(-5,5,50)\n",
    "hp, b1, p1 = plt.hist(xps, bins=bins, alpha=0.5, label='+1')\n",
    "hm, b2, p2 = plt.hist(xms, bins=bins, alpha=0.5, label ='-1')\n",
    "plt.legend()"
   ]
  },
  {
   "cell_type": "markdown",
   "metadata": {},
   "source": [
    "1) First plot\n",
    "$P(+1|x)$ vs $x$\n",
    "\n",
    "`hp` and `hm` contains histogram value for class +1 and -1."
   ]
  },
  {
   "cell_type": "code",
   "execution_count": 18,
   "metadata": {},
   "outputs": [
    {
     "data": {
      "text/plain": [
       "[<matplotlib.lines.Line2D at 0x21a8d74b088>]"
      ]
     },
     "execution_count": 18,
     "metadata": {},
     "output_type": "execute_result"
    },
    {
     "data": {
      "image/png": "[encoded data removed]",
      "text/plain": [
       "<Figure size 432x288 with 1 Axes>"
      ]
     },
     "metadata": {
      "needs_background": "light"
     },
     "output_type": "display_data"
    }
   ],
   "source": [
    "#I'm being nice for you\n",
    "midpoints = (bins[1:] + bins[:-1])/2.0\n",
    "prob = [ [m, x1/(x2+x1)] for m, x1, x2 in zip(midpoints, hp, hm) if x1+x2>0 ]\n",
    "xs = [x for x,y in prob]\n",
    "ys = [y for x,y in prob]\n",
    "plt.plot(xs, ys, 'or')"
   ]
  },
  {
   "cell_type": "markdown",
   "metadata": {},
   "source": [
    "2) Should you use linear regression $P(y = +1 | x) = mx + c$ to predict the probability? \n",
    "\n",
    "\n",
    "Why? If you have time try and see what happens."
   ]
  },
  {
   "cell_type": "code",
   "execution_count": 25,
   "metadata": {},
   "outputs": [
    {
     "data": {
      "text/plain": [
       "[<matplotlib.lines.Line2D at 0x21a8e5f90c8>]"
      ]
     },
     "execution_count": 25,
     "metadata": {},
     "output_type": "execute_result"
    },
    {
     "data": {
      "image/png": "[encoded data removed]",
      "text/plain": [
       "<Figure size 432x288 with 1 Axes>"
      ]
     },
     "metadata": {
      "needs_background": "light"
     },
     "output_type": "display_data"
    }
   ],
   "source": [
    "from scipy.optimize import minimize\n",
    "xs = np.array(xs)\n",
    "ys = np.array(ys)\n",
    "def cost(v):\n",
    "    m, c = v\n",
    "    #print(m,c)\n",
    "    return sum((m*xs + c -ys)**2)\n",
    "\n",
    "res = minimize(cost, [0,0])\n",
    "m, c = res.x\n",
    "plt.plot(xs, m*xs + c)\n",
    "plt.plot(xs, ys, 'or')"
   ]
  },
  {
   "cell_type": "markdown",
   "metadata": {},
   "source": [
    "## Theory\n",
    "\n",
    "\n",
    "### Logistic Function"
   ]
  },
  {
   "cell_type": "markdown",
   "metadata": {},
   "source": [
    "3) Plot with $s = -5 \\ldots 5$ Then explain why it is preferred over linear function $ms +c$\n",
    "\n",
    "$$\\theta(s) = \\frac{1}{1+e^{-s}}$$"
   ]
  },
  {
   "cell_type": "code",
   "execution_count": 26,
   "metadata": {},
   "outputs": [
    {
     "data": {
      "text/plain": [
       "[<matplotlib.lines.Line2D at 0x21a8e6988c8>]"
      ]
     },
     "execution_count": 26,
     "metadata": {},
     "output_type": "execute_result"
    },
    {
     "data": {
      "image/png": "[encoded data removed]",
      "text/plain": [
       "<Figure size 432x288 with 1 Axes>"
      ]
     },
     "metadata": {
      "needs_background": "light"
     },
     "output_type": "display_data"
    }
   ],
   "source": [
    "def theta(s):\n",
    "    return 1/(1+np.exp(-s))\n",
    "\n",
    "xs = np.linspace(-5,5)\n",
    "ys = theta(xs)\n",
    "plt.plot(xs, ys)"
   ]
  },
  {
   "cell_type": "markdown",
   "metadata": {},
   "source": [
    "4) Find $\\theta(\\infty)$ and $\\theta(-\\infty)$ and $\\theta(0)$"
   ]
  },
  {
   "cell_type": "code",
   "execution_count": 27,
   "metadata": {},
   "outputs": [
    {
     "data": {
      "text/plain": [
       "(0, 1, 0.5)"
      ]
     },
     "execution_count": 27,
     "metadata": {},
     "output_type": "execute_result"
    }
   ],
   "source": [
    "0, 1, 0.5"
   ]
  },
  {
   "cell_type": "markdown",
   "metadata": {},
   "source": [
    "5) Show that\n",
    "\n",
    "$$1-\\theta(s) = \\theta(-s)$$"
   ]
  },
  {
   "cell_type": "code",
   "execution_count": 28,
   "metadata": {},
   "outputs": [],
   "source": [
    "# see the video."
   ]
  },
  {
   "cell_type": "markdown",
   "metadata": {},
   "source": [
    "6) How should we compte $s$ from the features ?"
   ]
  },
  {
   "cell_type": "markdown",
   "metadata": {
    "collapsed": true
   },
   "source": [
    "$s = \\vec{w} \\cdot \\vec{x}$ with padded features."
   ]
  },
  {
   "cell_type": "markdown",
   "metadata": {},
   "source": [
    "7) Given that you use hypothesis $$ P_\\vec{w}(1 | \\vec{x}) = \\theta(\\vec{w}\\cdot\\vec{x}) $$\n",
    "and that you only 2 classes (+1 and -1) what is\n",
    "\n",
    "$$ P_\\vec{w}(-1 | \\vec{x})$$"
   ]
  },
  {
   "cell_type": "markdown",
   "metadata": {
    "collapsed": true
   },
   "source": [
    "$1- \\theta(\\vec{w} \\cdot \\vec{x})$"
   ]
  },
  {
   "cell_type": "markdown",
   "metadata": {},
   "source": [
    "8) What parameter parametrize your hypothesis?"
   ]
  },
  {
   "cell_type": "markdown",
   "metadata": {
    "collapsed": true
   },
   "source": [
    "$\\vec{w}$"
   ]
  },
  {
   "cell_type": "markdown",
   "metadata": {},
   "source": [
    "9) Use the fact from 5) write what you found in 7 in a simpler form\n",
    "\n",
    "$$\n",
    "P_\\vec{w}(y|\\vec{x}) = \\begin{cases}\n",
    "    \\ldots & y = 1 \\\\\n",
    "    \\ldots & y = -1\n",
    "\\end{cases}\n",
    "$$"
   ]
  },
  {
   "cell_type": "markdown",
   "metadata": {
    "collapsed": true
   },
   "source": [
    "\n",
    "$$\n",
    "P_\\vec{w}(y|\\vec{x}) = \\begin{cases}\n",
    "    \\theta(\\vec{w} \\cdot \\vec{x}) & y = 1 \\\\\n",
    "    1-\\theta(\\vec{w} \\cdot \\vec{x}) & y = -1\n",
    "\\end{cases}\n",
    "= \\begin{cases}\n",
    "    \\theta(\\vec{w} \\cdot \\vec{x}) & y = 1 \\\\\n",
    "    \\theta(-\\vec{w} \\cdot \\vec{x}) & y = -1\n",
    "\\end{cases}\n",
    "$$"
   ]
  },
  {
   "cell_type": "markdown",
   "metadata": {},
   "source": [
    "10) Use the fact that $y\\in\\{-1, 1\\}$ and convince yourself that what you wrote above is just\n",
    "\n",
    "$$ P_\\vec{w}\\left(y|\\vec{x} \\right) = \\theta\\left(y \\times \\left( \\vec{w} \\cdot \\vec{x} \\right) \\right)$$"
   ]
  },
  {
   "cell_type": "markdown",
   "metadata": {
    "collapsed": true
   },
   "source": [
    "for $y \\in {-1, 1}$ yes you get that nice formula\n",
    "\n",
    "for $y \\in {0,1}$ as in the video you will get\n",
    "$ P(y|\\vec{x}; \\vec{w}) = y\\theta(\\vec{w}\\cdot\\vec{x}) + (1-y)\\theta(-\\vec{w}\\cdot\\vec{x})$"
   ]
  },
  {
   "cell_type": "markdown",
   "metadata": {},
   "source": [
    "11) How do we distinguish a good hypothesis from bad hypothesis? (good $\\vec{w}$ from bad $\\vec{w}$)"
   ]
  },
  {
   "cell_type": "markdown",
   "metadata": {
    "collapsed": true
   },
   "source": [
    "We use likelihood."
   ]
  },
  {
   "cell_type": "markdown",
   "metadata": {},
   "source": [
    "12) What does likelihood represents?"
   ]
  },
  {
   "cell_type": "markdown",
   "metadata": {
    "collapsed": true
   },
   "source": [
    "The probability of getting the data(basket of mangoes) given the universe with the parameter(farm)."
   ]
  },
  {
   "cell_type": "markdown",
   "metadata": {},
   "source": [
    "13) Let us do one concrete example here.  Calculate the likelihood for $\\vec{w}$ given these data point\n",
    "$$\\vec{w}_1 = (1,2,3)$$\n",
    "- A: $y = 1$, $x=[1, -1]$\n",
    "- B: $y = -1$, $x=[-2, 1]$ \n",
    "\n",
    "Don't forget to pad your feature."
   ]
  },
  {
   "cell_type": "code",
   "execution_count": 32,
   "metadata": {},
   "outputs": [
    {
     "name": "stdout",
     "output_type": "stream",
     "text": [
      "0.25\n"
     ]
    }
   ],
   "source": [
    "def theta(s):\n",
    "    return 1.0/(1.0 + np.exp(-s))\n",
    "\n",
    "w = [1,2,3]\n",
    "x1 = [1, 1, -1]\n",
    "x2 = [1, -2, 1]\n",
    "y1 = 1\n",
    "y2 = 0\n",
    "def p_one_zero(w, x, y): # if you use 0, 1\n",
    "    s = np.dot(w,x)\n",
    "    return y*theta(s) + (1-y)*theta(-s)\n",
    "lh = p(w, x1, y1)*p(w, x2, y2)\n",
    "print(lh)"
   ]
  },
  {
   "cell_type": "code",
   "execution_count": null,
   "metadata": {},
   "outputs": [],
   "source": [
    "def p_one_minus_one"
   ]
  },
  {
   "cell_type": "markdown",
   "metadata": {},
   "source": [
    "14) Is $\\vec{w}_2 = (1,1,1)$ a better hypothesis?"
   ]
  },
  {
   "cell_type": "code",
   "execution_count": null,
   "metadata": {
    "collapsed": true
   },
   "outputs": [],
   "source": []
  },
  {
   "cell_type": "markdown",
   "metadata": {},
   "source": [
    "15) What happen when we take log of the likelihood? Write down log likehood in terms of feature, weight and classes."
   ]
  },
  {
   "cell_type": "code",
   "execution_count": null,
   "metadata": {
    "collapsed": true
   },
   "outputs": [],
   "source": []
  },
  {
   "cell_type": "markdown",
   "metadata": {},
   "source": [
    "16) Does greater log likelihood indicate a better hypothesis? Or is it the other way around."
   ]
  },
  {
   "cell_type": "code",
   "execution_count": null,
   "metadata": {
    "collapsed": true
   },
   "outputs": [],
   "source": []
  },
  {
   "cell_type": "markdown",
   "metadata": {},
   "source": [
    "17) Write down our cost function. Do we want to maximize or minimize the cost function?"
   ]
  },
  {
   "cell_type": "code",
   "execution_count": null,
   "metadata": {
    "collapsed": true
   },
   "outputs": [],
   "source": []
  },
  {
   "cell_type": "markdown",
   "metadata": {},
   "source": [
    "18) Turn what you found in 17 to minization problem."
   ]
  },
  {
   "cell_type": "code",
   "execution_count": null,
   "metadata": {
    "collapsed": true
   },
   "outputs": [],
   "source": []
  },
  {
   "cell_type": "markdown",
   "metadata": {},
   "source": [
    "19) Minimize it and try to debug it. You will most likely run into a bunch of numerical problems.\n",
    "\n",
    "Hint: computer doesn't like '$e^x$ when $x$ is large. You may find numpy.clip useful\n",
    "\n",
    "Hint: `log` function is typically inaccurate when the argument is near 1. Use `log1p` when you want to calculate `log(1+x)` for greater accuracy."
   ]
  },
  {
   "cell_type": "code",
   "execution_count": null,
   "metadata": {
    "collapsed": true
   },
   "outputs": [],
   "source": []
  },
  {
   "cell_type": "markdown",
   "metadata": {},
   "source": [
    "20) Once you are done. Compare you hypothesis with the probability getting from data."
   ]
  },
  {
   "cell_type": "code",
   "execution_count": null,
   "metadata": {
    "collapsed": true
   },
   "outputs": [],
   "source": []
  },
  {
   "cell_type": "markdown",
   "metadata": {},
   "source": [
    "21) For a new data point $x = 0.1$, what is the probability that it belongs to class $y=1$"
   ]
  },
  {
   "cell_type": "code",
   "execution_count": null,
   "metadata": {},
   "outputs": [],
   "source": []
  },
  {
   "cell_type": "markdown",
   "metadata": {},
   "source": [
    "## Logistic in Higher Dimension"
   ]
  },
  {
   "cell_type": "code",
   "execution_count": 74,
   "metadata": {},
   "outputs": [
    {
     "data": {
      "image/png": "[encoded data removed]",
      "text/plain": [
       "<Figure size 432x288 with 1 Axes>"
      ]
     },
     "metadata": {
      "needs_background": "light"
     },
     "output_type": "display_data"
    }
   ],
   "source": [
    "n = 100\n",
    "np.random.seed(9999)\n",
    "x1s = np.random.random(n)\n",
    "x2s = np.random.random(n)\n",
    "plt.plot(x1s, x2s, '.')\n",
    "def sigm(x):\n",
    "    return 1/(1+math.exp(-x))\n",
    "ys = np.array([ np.random.rand() > sigm(5*x1 + 5*x2 - 5) for x1, x2 in zip(x1s, x2s)], float)\n",
    "ys[ys==1] = 1\n",
    "ys[ys==0] = -1\n",
    "\n",
    "plt.plot(x1s[ys>0], x2s[ys>0], '.r')\n",
    "plt.plot(x1s[ys<0], x2s[ys<0], '.b')\n",
    "\n",
    "xs = np.vstack((x1s.T, x2s.T)) #this is how you stack them up vertically\n",
    "pad_xs = np.vstack((np.ones(n), xs))\n",
    "df = pd.DataFrame(data=pad_xs.T, columns=('xclass', 'x1', 'x2'))"
   ]
  },
  {
   "cell_type": "code",
   "execution_count": 75,
   "metadata": {},
   "outputs": [],
   "source": [
    "#display(df)"
   ]
  },
  {
   "cell_type": "markdown",
   "metadata": {},
   "source": [
    "1) Perform a logistic regression on the given data. What is your $s$ now?"
   ]
  },
  {
   "cell_type": "code",
   "execution_count": null,
   "metadata": {},
   "outputs": [],
   "source": []
  },
  {
   "cell_type": "markdown",
   "metadata": {},
   "source": [
    "2) What is the equation for the line that represent $P(y=1|\\vec{x})=0.5$. Recall that sigmoid(0)=0.5. Draw it along with the data."
   ]
  },
  {
   "cell_type": "code",
   "execution_count": null,
   "metadata": {},
   "outputs": [],
   "source": []
  },
  {
   "cell_type": "markdown",
   "metadata": {},
   "source": [
    "3) Now try 0.3 and 0.7 line."
   ]
  },
  {
   "cell_type": "code",
   "execution_count": null,
   "metadata": {},
   "outputs": [],
   "source": []
  },
  {
   "cell_type": "markdown",
   "metadata": {},
   "source": [
    "# ROC Curve (receiver operating characteristic)"
   ]
  },
  {
   "cell_type": "markdown",
   "metadata": {},
   "source": [
    "Let us consider a fingerprint application to authenticate people through super secret stuff. So the class +1 means authenticate and -1 means denied entry."
   ]
  },
  {
   "cell_type": "markdown",
   "metadata": {},
   "source": [
    "1) What is True Positive?"
   ]
  },
  {
   "cell_type": "code",
   "execution_count": null,
   "metadata": {
    "collapsed": true
   },
   "outputs": [],
   "source": []
  },
  {
   "cell_type": "markdown",
   "metadata": {},
   "source": [
    "2) What is False Positive?"
   ]
  },
  {
   "cell_type": "code",
   "execution_count": null,
   "metadata": {
    "collapsed": true
   },
   "outputs": [],
   "source": []
  },
  {
   "cell_type": "markdown",
   "metadata": {},
   "source": [
    "3) What is False Positive?"
   ]
  },
  {
   "cell_type": "code",
   "execution_count": null,
   "metadata": {
    "collapsed": true
   },
   "outputs": [],
   "source": []
  },
  {
   "cell_type": "markdown",
   "metadata": {},
   "source": [
    "4) What is False Negative?"
   ]
  },
  {
   "cell_type": "code",
   "execution_count": null,
   "metadata": {
    "collapsed": true
   },
   "outputs": [],
   "source": []
  },
  {
   "cell_type": "markdown",
   "metadata": {},
   "source": [
    "5) Which of the above number you want to be high and which of the above number you want to be low?"
   ]
  },
  {
   "cell_type": "code",
   "execution_count": null,
   "metadata": {
    "collapsed": true
   },
   "outputs": [],
   "source": []
  },
  {
   "cell_type": "markdown",
   "metadata": {},
   "source": [
    "6) Where would you place a cut on classifier output to make True Positive rate really high? What 's wrong with that?"
   ]
  },
  {
   "cell_type": "code",
   "execution_count": null,
   "metadata": {
    "collapsed": true
   },
   "outputs": [],
   "source": []
  },
  {
   "cell_type": "markdown",
   "metadata": {},
   "source": [
    "7) Where would you place a cut on classifier output to make True Negative rate really high? What 's wrong with that?"
   ]
  },
  {
   "cell_type": "code",
   "execution_count": null,
   "metadata": {
    "collapsed": true
   },
   "outputs": [],
   "source": []
  },
  {
   "cell_type": "markdown",
   "metadata": {},
   "source": [
    "8) If we place a cut at 0.3. What are the numbers for \"True positive sample\", \"True negative sample\", \"False postive samples\", \"False negative samples\"\n",
    "\n",
    "Write a function to do that we need it later."
   ]
  },
  {
   "cell_type": "code",
   "execution_count": null,
   "metadata": {
    "collapsed": true
   },
   "outputs": [],
   "source": []
  },
  {
   "cell_type": "markdown",
   "metadata": {},
   "source": [
    "9) If we place a cut at 0.3. What is \"True positive **rate**\", \"True negative **rate**\", \"False postive **rate**\", \"False negative **rate**\" \n",
    "\n",
    "Write a function to do that. We will need it later."
   ]
  },
  {
   "cell_type": "code",
   "execution_count": null,
   "metadata": {
    "collapsed": true
   },
   "outputs": [],
   "source": []
  },
  {
   "cell_type": "markdown",
   "metadata": {},
   "source": [
    "10) If we place a cut at 0.7. Which of the rate would be higher and which of the rate would be lower? (Reason first, then run the code and see if it matches)"
   ]
  },
  {
   "cell_type": "code",
   "execution_count": null,
   "metadata": {
    "collapsed": true
   },
   "outputs": [],
   "source": []
  },
  {
   "cell_type": "markdown",
   "metadata": {},
   "source": [
    "11) Vary the cut and plot True positive rate on y axis and false positive rate on x axis. This curve is called ROC curve.\n",
    "if you classifier is good which corner it should go?"
   ]
  },
  {
   "cell_type": "code",
   "execution_count": null,
   "metadata": {
    "collapsed": true
   },
   "outputs": [],
   "source": []
  },
  {
   "cell_type": "markdown",
   "metadata": {},
   "source": [
    "12) Consider these two fingerprint application and tell relatively where we should place a cut(which one with higher cut?)\n",
    "\n",
    "A) FBI Door fingerprint.\n",
    "\n",
    "B) Supermarket membership where use scan finger to verify the membership."
   ]
  },
  {
   "cell_type": "code",
   "execution_count": null,
   "metadata": {
    "collapsed": true
   },
   "outputs": [],
   "source": []
  }
 ],
 "metadata": {
  "kernelspec": {
   "display_name": "Python 3",
   "language": "python",
   "name": "python3"
  },
  "language_info": {
   "codemirror_mode": {
    "name": "ipython",
    "version": 3
   },
   "file_extension": ".py",
   "mimetype": "text/x-python",
   "name": "python",
   "nbconvert_exporter": "python",
   "pygments_lexer": "ipython3",
   "version": "3.7.5"
  },
  "toc": {
   "colors": {
    "hover_highlight": "#DAA520",
    "running_highlight": "#FF0000",
    "selected_highlight": "#FFD700"
   },
   "moveMenuLeft": true,
   "nav_menu": {
    "height": "66px",
    "width": "252px"
   },
   "navigate_menu": true,
   "number_sections": false,
   "sideBar": true,
   "threshold": 4,
   "toc_cell": false,
   "toc_section_display": "block",
   "toc_window_display": false
  }
 },
 "nbformat": 4,
 "nbformat_minor": 1
}
